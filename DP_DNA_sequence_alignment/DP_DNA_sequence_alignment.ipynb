{
 "cells": [
  {
   "cell_type": "markdown",
   "metadata": {},
   "source": [
    "# DNA Sequence Alignment Using Dynamic Programming\n",
    "In this project, I used the [Needleman-Wunsch algorithm](https://en.wikipedia.org/wiki/Needleman%E2%80%93Wunsch_algorithm) to find the optimal global pairwise alignment between two DNA sequences. The algorithm uses a nucleotide match score, nucleotide mismatch penalty, and gap penalty to score possible alignments. <br> <br>\n",
    "Through dynamic programming, I filled an alignment scoring matrix by building upon the optimal alignments of smaller portions of the two DNA sequences. By recursively tracing back through the optimal path(s) in the scoring matrix, I obtained the optimal sequence alignment(s)."
   ]
  },
  {
   "cell_type": "markdown",
   "metadata": {},
   "source": [
    "![matrix figure](image1.png) ![matrix results](image2.png)"
   ]
  },
  {
   "cell_type": "markdown",
   "metadata": {},
   "source": [
    "To find all optimal alignments after scoring, I stored the directional movements at each cell in a separate matrix. 7 coded values were used to represent the 7 possibilities: <br>\n",
    "\n",
    "Coding values for the trace-back matrix: <br>\n",
    "1 - came from left neighbor <br>\n",
    "2 - came from top-left neighbor <br>\n",
    "3 - came from top neighbor <br>\n",
    "---- ties (coming from multiple neighbors) ---- <br>\n",
    "4 - came from left and top-left neighbors <br>\n",
    "5 - came from top-left and top neighbors <br>\n",
    "6 - came from left and top neighbors <br>\n",
    "7 - came from all three neighbors <br>"
   ]
  },
  {
   "cell_type": "code",
   "execution_count": 1,
   "metadata": {},
   "outputs": [],
   "source": [
    "import numpy as np"
   ]
  },
  {
   "cell_type": "markdown",
   "metadata": {},
   "source": [
    "**Helper Function 1**"
   ]
  },
  {
   "cell_type": "code",
   "execution_count": 2,
   "metadata": {},
   "outputs": [],
   "source": [
    "#takes input of sequences X and Y, nucleotide match score, nucleotide mismatch penalty, and gap penalty\n",
    "#outputs scoring matrix and trace-back matrix with direction history\n",
    "\n",
    "def fill_matrices(X: list, Y: list, s_match: int, p_mismatch: int, p_gap: int):\n",
    "    matrix = np.zeros((len(X)+1, len(Y)+1), dtype = int) #matrix for scores\n",
    "    matrix_trace = np.zeros((len(X)+1, len(Y)+1), dtype = int) #matrix to trace back for optimal alignment\n",
    "    \n",
    "    #initialize both matrices\n",
    "    for i in range(0, len(X)+1): #fill the first column\n",
    "        matrix[i][0] = p_gap*i\n",
    "        matrix_trace[i][0] = 3\n",
    "    for j in range(0, len(Y)+1): #fill the first row\n",
    "        matrix[0][j] = p_gap*j\n",
    "        matrix_trace[0][j] = 1\n",
    "    \n",
    "    #use dynamic programming to fill the scoring matrix\n",
    "    for y in range(0, len(Y)):\n",
    "        for x in range(0, len(X)):\n",
    "            #obtain score when nucleotides are aligned (coming diagonally from the top-left)\n",
    "            diag = 0\n",
    "            if(X[x] == Y[y]):\n",
    "                diag = matrix[x][y] + s_match\n",
    "            else:\n",
    "                diag = matrix[x][y] + p_mismatch\n",
    "            \n",
    "            #obtain scores when gaps are placed (coming from the left cell or top cell)\n",
    "            left = matrix[x+1][y] + p_gap\n",
    "            top = matrix[x][y+1] + p_gap\n",
    "            \n",
    "            #obtain the optimal local score and fill value into matrix\n",
    "            max_score = max([diag, left, top])\n",
    "            matrix[x+1][y+1] = max_score\n",
    "\n",
    "            #storing direction history (see key for coded values above)\n",
    "            if(diag == max_score and left != max_score and top != max_score):\n",
    "                matrix_trace[x+1][y+1] = 2\n",
    "            elif(diag != max_score and left == max_score and top != max_score):\n",
    "                matrix_trace[x+1][y+1] = 1\n",
    "            elif(diag != max_score and left != max_score and top == max_score):\n",
    "                matrix_trace[x+1][y+1] = 3\n",
    "            elif(diag == max_score and left == max_score and top != max_score):\n",
    "                matrix_trace[x+1][y+1] = 4\n",
    "            elif(diag == max_score and left != max_score and top == max_score):\n",
    "                matrix_trace[x+1][y+1] = 5\n",
    "            elif(diag != max_score and left == max_score and top == max_score):\n",
    "                matrix_trace[x+1][y+1] = 6\n",
    "            else: \n",
    "                matrix_trace[x+1][y+1] = 7\n",
    "\n",
    "    return matrix, matrix_trace"
   ]
  },
  {
   "cell_type": "markdown",
   "metadata": {},
   "source": [
    "**Helper Function 2**"
   ]
  },
  {
   "cell_type": "code",
   "execution_count": 3,
   "metadata": {},
   "outputs": [],
   "source": [
    "#recursive helper function to trace back all optimal paths and store the corresponding alignments \n",
    "def recursive_paths(x_pos: int, y_pos: int, curr_strX: str, curr_strY: str, \n",
    "                    alignments: list, X: list, Y: list, matrix_trace: np.ndarray) -> None:\n",
    "    \n",
    "    if(x_pos == 0 and y_pos == 0): #base case: once the beginning is reached, store optimal alignment\n",
    "        alignments.append([curr_strY, curr_strX]) \n",
    "        return\n",
    "    \n",
    "    if(matrix_trace[x_pos][y_pos] == 1): #came from left neighbor\n",
    "        recursive_paths(x_pos, y_pos-1, '-' + curr_strX, Y[y_pos-1] + curr_strY, alignments, X, Y, matrix_trace)\n",
    "    \n",
    "    elif(matrix_trace[x_pos][y_pos] == 2): #came from top-left neighbor\n",
    "        recursive_paths(x_pos-1, y_pos-1, X[x_pos-1] + curr_strX, Y[y_pos-1] + curr_strY, alignments, X, Y, matrix_trace)\n",
    "    \n",
    "    elif(matrix_trace[x_pos][y_pos] == 3): #came from top neighbor\n",
    "        recursive_paths(x_pos-1, y_pos, X[x_pos-1] + curr_strX, '-' + curr_strY, alignments, X, Y, matrix_trace)\n",
    "    \n",
    "    elif(matrix_trace[x_pos][y_pos] == 4): #came from left and top-left neighbors\n",
    "        recursive_paths(x_pos, y_pos-1, '-' + curr_strX, Y[y_pos-1] + curr_strY, alignments, X, Y, matrix_trace)\n",
    "        recursive_paths(x_pos-1, y_pos-1, X[x_pos-1] + curr_strX, Y[y_pos-1] + curr_strY, alignments, X, Y, matrix_trace)\n",
    "    \n",
    "    elif(matrix_trace[x_pos][y_pos] == 5): #came from top-left and top neighbors\n",
    "        recursive_paths(x_pos-1, y_pos-1, X[x_pos-1] + curr_strX, Y[y_pos-1] + curr_strY, alignments, X, Y, matrix_trace)\n",
    "        recursive_paths(x_pos-1, y_pos, X[x_pos-1] + curr_strX, '-' + curr_strY, alignments, X, Y, matrix_trace)\n",
    "    \n",
    "    elif(matrix_trace[x_pos][y_pos] == 6): #came from left and top neighbors\n",
    "        recursive_paths(x_pos, y_pos-1, '-' + curr_strX, Y[y_pos-1] + curr_strY, alignments, X, Y, matrix_trace)\n",
    "        recursive_paths(x_pos-1, y_pos, X[x_pos-1] + curr_strX, '-' + curr_strY, alignments, X, Y, matrix_trace)\n",
    "    \n",
    "    else: #came from all three neighbors\n",
    "        recursive_paths(x_pos, y_pos-1, '-' + curr_strX, Y[y_pos-1] + curr_strY, alignments, X, Y, matrix_trace)\n",
    "        recursive_paths(x_pos-1, y_pos-1, X[x_pos-1] + curr_strX, Y[y_pos-1] + curr_strY, alignments, X, Y, matrix_trace)\n",
    "        recursive_paths(x_pos-1, y_pos, X[x_pos-1] + curr_strX, '-' + curr_strY, alignments, X, Y, matrix_trace)"
   ]
  },
  {
   "cell_type": "markdown",
   "metadata": {},
   "source": [
    "## Main Function"
   ]
  },
  {
   "cell_type": "code",
   "execution_count": 4,
   "metadata": {},
   "outputs": [],
   "source": [
    "#takes input of sequences X and Y, nucleotide match score, nucleotide mismatch penalty, and gap penalty\n",
    "#outputs scoring matrix, trace-back matrix, and all optimal alignments\n",
    "\n",
    "def pairwise_alignment(X: list, Y: list, s_match: int, p_mismatch: int, p_gap: int):\n",
    "    \n",
    "    #filling the scoring matrix and trace-back matrix\n",
    "    matrix, matrix_trace = fill_matrices(X, Y, s_match, p_mismatch, p_gap)\n",
    "    \n",
    "    #recursively back-tracing through optimal paths and storing all optimal alignments\n",
    "    alignments = []\n",
    "    recursive_paths(len(X), len(Y), '', '', alignments, X, Y, matrix_trace)\n",
    "    \n",
    "    #return scoring matrix, trace-back matrix, and optimal alignment(s)\n",
    "    return matrix, matrix_trace, alignments"
   ]
  },
  {
   "cell_type": "code",
   "execution_count": 5,
   "metadata": {},
   "outputs": [],
   "source": [
    "#function to display alignment results\n",
    "#input takes score matrix, trace-back matrix, and list of optimal alignments\n",
    "def alignment_display(scr_matrix: np.ndarray, tb_matrix: np.ndarray, opt_alignments: list) -> None:\n",
    "    print(\"Scoring Matrix:\", scr_matrix, sep='\\n')\n",
    "    print()\n",
    "    print(\"Traceback Matrix:\", tb_matrix, sep='\\n')\n",
    "    print()\n",
    "    print(\"All Optimal Alignments:\")\n",
    "    for align in opt_alignments:\n",
    "        print(align[1])\n",
    "        print(align[0],\"\\n\")"
   ]
  },
  {
   "cell_type": "markdown",
   "metadata": {},
   "source": [
    "**Short Example:** <br>\n",
    "Sequence X: ACGA <br>\n",
    "Sequence Y: CACT <br>\n",
    "Nucleotide Match Score: 3 <br>\n",
    "Nucleotide Mismatch Penalty: -1 <br>\n",
    "Gap Penalty: -2 <br>\n"
   ]
  },
  {
   "cell_type": "code",
   "execution_count": 6,
   "metadata": {},
   "outputs": [
    {
     "name": "stdout",
     "output_type": "stream",
     "text": [
      "Scoring Matrix:\n",
      "[[ 0 -2 -4 -6 -8]\n",
      " [-2 -1  1 -1 -3]\n",
      " [-4  1 -1  4  2]\n",
      " [-6 -1  0  2  3]\n",
      " [-8 -3  2  0  1]]\n",
      "\n",
      "Traceback Matrix:\n",
      "[[1 1 1 1 1]\n",
      " [3 2 2 1 1]\n",
      " [3 2 6 2 1]\n",
      " [3 3 2 3 2]\n",
      " [3 3 2 6 5]]\n",
      "\n",
      "All Optimal Alignments:\n",
      "-ACGA\n",
      "CAC-T \n",
      "\n",
      "-ACGA\n",
      "CACT- \n",
      "\n"
     ]
    }
   ],
   "source": [
    "alignment_display(*pairwise_alignment('ACGA', 'CACT', 3, -1, -2))"
   ]
  },
  {
   "cell_type": "markdown",
   "metadata": {},
   "source": [
    "**Longer Example:** &nbsp; &nbsp; *With Sequences of Different Lengths* <br>\n",
    "Sequence X: CCGAGCGGTGCAG <br>\n",
    "Sequence Y: CAAGGGTTCTGGTCCGC <br>\n",
    "Nucleotide Match Score: 2 <br>\n",
    "Nucleotide Mismatch Penalty: -1 <br>\n",
    "Gap Penalty: -1 <br>"
   ]
  },
  {
   "cell_type": "code",
   "execution_count": 7,
   "metadata": {
    "scrolled": false
   },
   "outputs": [
    {
     "name": "stdout",
     "output_type": "stream",
     "text": [
      "Scoring Matrix:\n",
      "[[  0  -1  -2  -3  -4  -5  -6  -7  -8  -9 -10 -11 -12 -13 -14 -15 -16 -17]\n",
      " [ -1   2   1   0  -1  -2  -3  -4  -5  -6  -7  -8  -9 -10 -11 -12 -13 -14]\n",
      " [ -2   1   1   0  -1  -2  -3  -4  -5  -3  -4  -5  -6  -7  -8  -9 -10 -11]\n",
      " [ -3   0   0   0   2   1   0  -1  -2  -3  -4  -2  -3  -4  -5  -6  -7  -8]\n",
      " [ -4  -1   2   2   1   1   0  -1  -2  -3  -4  -3  -3  -4  -5  -6  -7  -8]\n",
      " [ -5  -2   1   1   4   3   3   2   1   0  -1  -2  -1  -2  -3  -4  -4  -5]\n",
      " [ -6  -3   0   0   3   3   2   2   1   3   2   1   0  -1   0  -1  -2  -2]\n",
      " [ -7  -4  -1  -1   2   5   5   4   3   2   2   4   3   2   1   0   1   0]\n",
      " [ -8  -5  -2  -2   1   4   7   6   5   4   3   4   6   5   4   3   2   1]\n",
      " [ -9  -6  -3  -3   0   3   6   9   8   7   6   5   5   8   7   6   5   4]\n",
      " [-10  -7  -4  -4  -1   2   5   8   8   7   6   8   7   7   7   6   8   7]\n",
      " [-11  -8  -5  -5  -2   1   4   7   7  10   9   8   7   6   9   9   8  10]\n",
      " [-12  -9  -6  -3  -3   0   3   6   6   9   9   8   7   6   8   8   8   9]\n",
      " [-13 -10  -7  -4  -1  -1   2   5   5   8   8  11  10   9   8   7  10   9]]\n",
      "\n",
      "Traceback Matrix:\n",
      "[[1 1 1 1 1 1 1 1 1 1 1 1 1 1 1 1 1 1]\n",
      " [3 2 1 1 1 1 1 1 1 4 1 1 1 1 4 4 1 4]\n",
      " [3 5 2 4 4 4 4 4 4 2 1 1 1 1 4 4 1 4]\n",
      " [3 3 5 2 2 4 4 1 1 1 4 2 4 1 1 1 4 1]\n",
      " [3 3 2 2 6 2 4 4 4 4 4 3 2 4 4 4 4 4]\n",
      " [3 3 3 5 2 4 2 1 1 1 1 4 2 1 1 1 2 1]\n",
      " [3 5 3 5 3 2 7 2 4 2 1 1 1 1 2 4 1 2]\n",
      " [3 3 3 5 5 2 2 1 1 6 2 2 4 1 1 1 2 1]\n",
      " [3 3 3 5 5 5 2 1 1 1 1 2 2 1 1 1 4 1]\n",
      " [3 3 3 5 3 3 3 2 4 1 4 1 3 2 1 1 1 1]\n",
      " [3 3 3 5 5 5 5 3 2 4 4 2 4 3 2 4 2 1]\n",
      " [3 5 3 5 3 3 3 3 5 2 1 1 4 7 2 2 1 2]\n",
      " [3 3 5 2 3 3 3 3 5 3 2 4 4 4 3 5 2 3]\n",
      " [3 3 3 3 2 5 5 3 5 3 5 2 4 1 1 7 2 1]]\n",
      "\n",
      "All Optimal Alignments:\n",
      "CC-GAG--C-GGTGCAG-\n",
      "CAAGGGTTCTGGT-CCGC \n",
      "\n",
      "C-CGAG--C-GGTGCAG-\n",
      "CAAGGGTTCTGGT-CCGC \n",
      "\n",
      "CC-GAG--C-GGTGCAG-\n",
      "CAAGGGTTCTGGTCC-GC \n",
      "\n",
      "C-CGAG--C-GGTGCAG-\n",
      "CAAGGGTTCTGGTCC-GC \n",
      "\n"
     ]
    }
   ],
   "source": [
    "alignment_display(*pairwise_alignment('CCGAGCGGTGCAG', 'CAAGGGTTCTGGTCCGC', 2, -1, -1))"
   ]
  },
  {
   "cell_type": "markdown",
   "metadata": {},
   "source": [
    "This code can be applied to other sequences to find optimal global alignment."
   ]
  }
 ],
 "metadata": {
  "kernelspec": {
   "display_name": "Python 3",
   "language": "python",
   "name": "python3"
  },
  "language_info": {
   "codemirror_mode": {
    "name": "ipython",
    "version": 3
   },
   "file_extension": ".py",
   "mimetype": "text/x-python",
   "name": "python",
   "nbconvert_exporter": "python",
   "pygments_lexer": "ipython3",
   "version": "3.7.3"
  }
 },
 "nbformat": 4,
 "nbformat_minor": 2
}
